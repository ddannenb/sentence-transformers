{
  "nbformat": 4,
  "nbformat_minor": 0,
  "metadata": {
    "kernelspec": {
      "display_name": "transformers",
      "language": "python",
      "name": "transformers"
    },
    "language_info": {
      "codemirror_mode": {
        "name": "ipython",
        "version": 3
      },
      "file_extension": ".py",
      "mimetype": "text/x-python",
      "name": "python",
      "nbconvert_exporter": "python",
      "pygments_lexer": "ipython3",
      "version": "3.6.10"
    },
    "colab": {
      "name": "sentence_similarity.ipynb",
      "provenance": [],
      "collapsed_sections": [],
      "include_colab_link": true
    },
    "accelerator": "GPU"
  },
  "cells": [
    {
      "cell_type": "markdown",
      "metadata": {
        "id": "view-in-github",
        "colab_type": "text"
      },
      "source": [
        "<a href=\"https://colab.research.google.com/github/ddannenb/sentence-transformers/blob/master/sentence_similarity.ipynb\" target=\"_parent\"><img src=\"https://colab.research.google.com/assets/colab-badge.svg\" alt=\"Open In Colab\"/></a>"
      ]
    },
    {
      "cell_type": "code",
      "metadata": {
        "id": "flWb2rggxcwX",
        "colab_type": "code",
        "colab": {}
      },
      "source": [
        "!pip install transformers"
      ],
      "execution_count": null,
      "outputs": []
    },
    {
      "cell_type": "code",
      "metadata": {
        "id": "zHBSLw6yyPeg",
        "colab_type": "code",
        "colab": {}
      },
      "source": [
        "!pip install -U sentence-transformers"
      ],
      "execution_count": null,
      "outputs": []
    },
    {
      "cell_type": "code",
      "metadata": {
        "id": "UaGuOVugxcwc",
        "colab_type": "code",
        "colab": {}
      },
      "source": [
        "import scipy\n",
        "from sentence_transformers import SentenceTransformer\n",
        "model = SentenceTransformer('bert-base-nli-mean-tokens')"
      ],
      "execution_count": null,
      "outputs": []
    },
    {
      "cell_type": "code",
      "metadata": {
        "id": "Ef9rckKoxcwf",
        "colab_type": "code",
        "colab": {}
      },
      "source": [
        "# Get a sample corpus to search over\n",
        "_c=\"\"\"\n",
        "Local government should focus on technology sector\n",
        "Discussion:\n",
        "Bringing in technology companies - particularly software, bio tech, renewable energy and clean manufacturing is important to the economic growth of Northern New Mexico.\n",
        "Now, regional government is doing too little to promote this direction with current activity and investment almost exclusively centered on growing tourism.\n",
        "I’ve worked in Tech for over 35 years.\n",
        "The first 20 of those for big companies in Phoenix and the more recent 18 years in a variety of ventures while living here in Santa Fe.\n",
        "I can say with certainty that it is possible to run a Tech company here but it’s not an easy or obvious place to do so.\n",
        "Also, for me, doing Tech in New Mexico has meant hiring remote, out of state employees, working with investors and partners long distance and typically billing out of state clients.\n",
        "Very little of my business has contributed directly back to the Northern New Mexico Economy in creating new jobs.\n",
        "This can change if local government and the handful of tech companies currently here work together to make it happen.\n",
        "What is the motivation to shift local government away from a near singular focus on tourism and onto growing Tech?\n",
        "Foremost, Tech companies pay high salaries and their demands on local resources and infrastructure are relatively low, particularly in comparison to tourism.\n",
        "According to glassdoor.com, which surveys salaries nationwide, software engineers earn on average 103K per year.\n",
        "Adding tech companies and their high paying jobs to the economic mix of the region means that more cash flows into the community which means more tax revenues and more business for the established construction, service and retail industry.\n",
        "High paying companies provide opportunities for salary growth in the community as local workers develop needed skills through workforce training or pursuing advanced degrees.\n",
        "As for infrastructure, a software company needs employees, an accessible office space, high speed internet and not much else to produce a valuable product.\n",
        "The region cannot sustain continued growth of tourism which in contrast is a strain on resources.\n",
        "It requires steady investment in infrastructures such as utilities, roads, policing and emergency services to support growing peak tourist numbers.\n",
        "It does little to improve resident quality of life bringing more crowds and higher prices.\n",
        "With low salaries in hospitality – 43K per year average, according to glass door – there is little salary growth opportunity for those working in the industry.\n",
        "What is the equation for bringing in Tech?\n",
        "Northern New Mexico already has many of the pieces in place to attract Tech.\n",
        "It is a great place to live.\n",
        "It has a beautiful and rich cultural heritage and a great mix of city life and the outdoors.\n",
        "It’s people values diversity and sustainability, which is in line with the belief systems of Tech.\n",
        "LANL is already contributing in providing some technology spin outs and has the intellectual capacity to fuel more local innovation if other pieces are in place.\n",
        "Tech companies thrive in a place that has other tech companies, universities and investors that create an innovation ecosystem.\n",
        "Although, typically a research university is central to the ecosystem, SFCC has shown that it can meet the challenge having already deployed complex initiatives in areas such as biofuels production, micro grids, solar energy, and greenhouse operations plus their partnerships with UNM and other research universities.\n",
        "I think that SFCC can be a cornerstone for developing a Tech ecosystem here.\n",
        "\"\"\""
      ],
      "execution_count": null,
      "outputs": []
    },
    {
      "cell_type": "code",
      "metadata": {
        "id": "JJMgDXe9xcwi",
        "colab_type": "code",
        "colab": {}
      },
      "source": [
        "# Convert the corpus into a list of headlines\n",
        "corpus=[i for i in _c.split('\\n')if i != ''and len(i.split(' '))>=4]"
      ],
      "execution_count": null,
      "outputs": []
    },
    {
      "cell_type": "code",
      "metadata": {
        "id": "G0XAtMLExcwk",
        "colab_type": "code",
        "colab": {}
      },
      "source": [
        "# Get a vector for each headline (sentence) in the corpus\n",
        "corpus_embeddings = model.encode(corpus)"
      ],
      "execution_count": null,
      "outputs": []
    },
    {
      "cell_type": "code",
      "metadata": {
        "id": "kiXD2Xf9xcwn",
        "colab_type": "code",
        "colab": {}
      },
      "source": [
        "# Define search queries and embed them to vectors as well\n",
        "queries = [\n",
        "    'Can Santa Fe survive the continued strain on resources caused by tourism?']\n",
        "query_embeddings = model.encode(queries)"
      ],
      "execution_count": null,
      "outputs": []
    },
    {
      "cell_type": "code",
      "metadata": {
        "id": "CIqj058Xxcwq",
        "colab_type": "code",
        "colab": {}
      },
      "source": [
        "# For each search term return closest s_nentences\n",
        "closest_n = 2\n",
        "for query, query_embedding in zip(queries, query_embeddings):\n",
        "    distances = scipy.spatial.distance.cdist([query_embedding], corpus_embeddings, \"cosine\")[0]\n",
        "\n",
        "    results = zip(range(len(distances)), distances)\n",
        "    results = sorted(results, key=lambda x: x[1])\n",
        "\n",
        "    print(\"\\n\\n======================\\n\\n\")\n",
        "    print(\"Query:\", query)\n",
        "    print(\"\\nTop 5 most similar sentences in corpus:\")\n",
        "\n",
        "    for idx, distance in results[0:closest_n]:\n",
        "        print(corpus[idx].strip(), \"(Score: %.4f)\" % (1-distance))\n"
      ],
      "execution_count": null,
      "outputs": []
    },
    {
      "cell_type": "code",
      "metadata": {
        "id": "T5lj6h3pypUC",
        "colab_type": "code",
        "colab": {
          "base_uri": "https://localhost:8080/",
          "height": 683
        },
        "outputId": "8dc0b95e-33aa-49fd-db9c-21d228d4cd5b"
      },
      "source": [
        "# Clustering\n",
        "\n",
        "from sklearn.cluster import KMeans\n",
        "import numpy as np\n",
        "\n",
        "num_clusters = 5\n",
        "clustering_model = KMeans(n_clusters=num_clusters)\n",
        "clustering_model.fit(corpus_embeddings)\n",
        "cluster_assignment = clustering_model.labels_\n",
        "for i in range(num_clusters):\n",
        "    print()\n",
        "    print(f'Cluster {i + 1} contains:')\n",
        "    clust_sent = np.where(cluster_assignment == i)\n",
        "    for k in clust_sent[0]:\n",
        "        print(f'- {corpus[k]}')"
      ],
      "execution_count": 57,
      "outputs": [
        {
          "output_type": "stream",
          "text": [
            "\n",
            "Cluster 1 contains:\n",
            "- Bringing in technology companies - particularly software, bio tech, renewable energy and clean manufacturing is important to the economic growth of Northern New Mexico.\n",
            "- This can change if local government and the handful of tech companies currently here work together to make it happen.\n",
            "- Adding tech companies and their high paying jobs to the economic mix of the region means that more cash flows into the community which means more tax revenues and more business for the established construction, service and retail industry.\n",
            "- High paying companies provide opportunities for salary growth in the community as local workers develop needed skills through workforce training or pursuing advanced degrees.\n",
            "- It requires steady investment in infrastructures such as utilities, roads, policing and emergency services to support growing peak tourist numbers.\n",
            "- Northern New Mexico already has many of the pieces in place to attract Tech.\n",
            "- It’s people values diversity and sustainability, which is in line with the belief systems of Tech.\n",
            "- LANL is already contributing in providing some technology spin outs and has the intellectual capacity to fuel more local innovation if other pieces are in place.\n",
            "- Tech companies thrive in a place that has other tech companies, universities and investors that create an innovation ecosystem.\n",
            "- Although, typically a research university is central to the ecosystem, SFCC has shown that it can meet the challenge having already deployed complex initiatives in areas such as biofuels production, micro grids, solar energy, and greenhouse operations plus their partnerships with UNM and other research universities.\n",
            "- I think that SFCC can be a cornerstone for developing a Tech ecosystem here.\n",
            "\n",
            "Cluster 2 contains:\n",
            "- Now, regional government is doing too little to promote this direction with current activity and investment almost exclusively centered on growing tourism.\n",
            "- I can say with certainty that it is possible to run a Tech company here but it’s not an easy or obvious place to do so.\n",
            "- Also, for me, doing Tech in New Mexico has meant hiring remote, out of state employees, working with investors and partners long distance and typically billing out of state clients.\n",
            "- Very little of my business has contributed directly back to the Northern New Mexico Economy in creating new jobs.\n",
            "- What is the motivation to shift local government away from a near singular focus on tourism and onto growing Tech?\n",
            "- Foremost, Tech companies pay high salaries and their demands on local resources and infrastructure are relatively low, particularly in comparison to tourism.\n",
            "- As for infrastructure, a software company needs employees, an accessible office space, high speed internet and not much else to produce a valuable product.\n",
            "- The region cannot sustain continued growth of tourism which in contrast is a strain on resources.\n",
            "- It does little to improve resident quality of life bringing more crowds and higher prices.\n",
            "\n",
            "Cluster 3 contains:\n",
            "- I’ve worked in Tech for over 35 years.\n",
            "- The first 20 of those for big companies in Phoenix and the more recent 18 years in a variety of ventures while living here in Santa Fe.\n",
            "- According to glassdoor.com, which surveys salaries nationwide, software engineers earn on average 103K per year.\n",
            "- With low salaries in hospitality – 43K per year average, according to glass door – there is little salary growth opportunity for those working in the industry.\n",
            "\n",
            "Cluster 4 contains:\n",
            "- It is a great place to live.\n",
            "- It has a beautiful and rich cultural heritage and a great mix of city life and the outdoors.\n",
            "\n",
            "Cluster 5 contains:\n",
            "- Local government should focus on technology sector\n",
            "- What is the equation for bringing in Tech?\n"
          ],
          "name": "stdout"
        }
      ]
    },
    {
      "cell_type": "code",
      "metadata": {
        "id": "w0WuFOtHimDU",
        "colab_type": "code",
        "colab": {}
      },
      "source": [
        ""
      ],
      "execution_count": null,
      "outputs": []
    }
  ]
}